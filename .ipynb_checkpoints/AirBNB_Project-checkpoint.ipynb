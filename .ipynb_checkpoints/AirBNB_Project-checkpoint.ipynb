{
 "cells": [
  {
   "cell_type": "code",
   "execution_count": null,
   "metadata": {},
   "outputs": [],
   "source": [
    "import pandas as pd\n",
    "import numpy as np\n",
    "import os\n",
    "import boto3\n",
    "from s3fs.core import S3FileSystem\n",
    "\n",
    "import os\n",
    "import dask\n",
    "from dask.distributed import Client\n",
    "import dask.dataframe as dd\n",
    "import dask_ml\n",
    "import joblib"
   ]
  },
  {
   "cell_type": "code",
   "execution_count": null,
   "metadata": {},
   "outputs": [],
   "source": [
    "file_list = ['listings_Asheville.csv',\n",
    " 'listings_Austin.csv',\n",
    " 'listings_Boston.csv',\n",
    " 'listings_Broward County.csv',\n",
    " 'listings_Cambridge.csv',\n",
    " 'listings_Chicago.csv',\n",
    " 'listings_Clark County.csv',\n",
    " 'listings_Colombus.csv',\n",
    " 'listings_Dallas.csv',\n",
    " 'listings_Denver.csv',\n",
    " 'listings_Hawaii.csv',\n",
    " 'listings_Jersey City.csv',\n",
    " 'listings_Los Angeles.csv',\n",
    " 'listings_New Orleans.csv',\n",
    " 'listings_New York City.csv',\n",
    " 'listings_Oakland.csv',\n",
    " 'listings_Pacific Grove.csv',\n",
    " 'listings_Portland.csv',\n",
    " 'listings_Rhode Island.csv',\n",
    " 'listings_Salem.csv',\n",
    " 'listings_San Diego.csv',\n",
    " 'listings_San Franciso.csv',\n",
    " 'listings_San Mateo.csv',\n",
    " 'listings_Santa Clara.csv',\n",
    " 'listings_Santa Cruz.csv',\n",
    " 'listings_Seattle.csv',\n",
    " 'listings_Twin Cities.csv',\n",
    " 'listings_Washington.csv']"
   ]
  },
  {
   "cell_type": "code",
   "execution_count": null,
   "metadata": {},
   "outputs": [],
   "source": [
    "client = Client(n_workers=2)"
   ]
  },
  {
   "cell_type": "code",
   "execution_count": null,
   "metadata": {},
   "outputs": [],
   "source": [
    "df = pd.DataFrame()\n",
    "ddf = dd.from_pandas(df, npartitions=4)"
   ]
  },
  {
   "cell_type": "code",
   "execution_count": null,
   "metadata": {},
   "outputs": [],
   "source": [
    "with joblib.parallel_backend(\"dask\"):    \n",
    "    for file in file_list:\n",
    "        data_fname = \"s3://harrybucket6/DSE230 Project/\" + file\n",
    "        data = pd.read_csv(data_fname)\n",
    "        d_data = dd.from_pandas(data, npartitions=4)\n",
    "        ddf = ddf.append(d_data)"
   ]
  },
  {
   "cell_type": "code",
   "execution_count": null,
   "metadata": {},
   "outputs": [],
   "source": [
    "ddf.shape"
   ]
  },
  {
   "cell_type": "code",
   "execution_count": null,
   "metadata": {},
   "outputs": [],
   "source": [
    "client.shutdown()"
   ]
  }
 ],
 "metadata": {
  "kernelspec": {
   "display_name": "Python 3",
   "language": "python",
   "name": "python3"
  },
  "language_info": {
   "codemirror_mode": {
    "name": "ipython",
    "version": 3
   },
   "file_extension": ".py",
   "mimetype": "text/x-python",
   "name": "python",
   "nbconvert_exporter": "python",
   "pygments_lexer": "ipython3",
   "version": "3.8.5"
  }
 },
 "nbformat": 4,
 "nbformat_minor": 4
}
